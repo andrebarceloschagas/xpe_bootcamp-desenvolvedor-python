{
 "cells": [
  {
   "cell_type": "markdown",
   "metadata": {},
   "source": [
    "1. Execute e analise a saída do seguinte código no Google Colab1\n"
   ]
  },
  {
   "cell_type": "code",
   "execution_count": 1,
   "metadata": {},
   "outputs": [
    {
     "name": "stdout",
     "output_type": "stream",
     "text": [
      "0\n",
      "5\n",
      "10\n",
      "15\n",
      "20\n",
      "25\n",
      "30\n",
      "35\n",
      "40\n",
      "45\n",
      "50\n",
      "55\n",
      "60\n",
      "65\n",
      "70\n",
      "75\n",
      "80\n",
      "85\n",
      "90\n",
      "95\n"
     ]
    }
   ],
   "source": [
    "'''\n",
    "Este script Python verifica quais números em um intervalo específico são divisíveis por cinco e os exibe.\n",
    "\n",
    "Variáveis:\n",
    "inicio : int\n",
    "    O início do intervalo a ser verificado.\n",
    "fim : int\n",
    "    O fim do intervalo a ser verificado.\n",
    "\n",
    "O script usa um laço for para iterar sobre o intervalo de 'inicio' a 'fim'. Para cada número no intervalo, ele verifica se o número é divisível por cinco. Se for, o número é impresso.\n",
    "'''\n",
    "\n",
    "# declaração de variáveis\n",
    "inicio = 0\n",
    "fim = 100\n",
    "\n",
    "# verifica quais números são divisíveis por cinco, e exibe aqueles que são.\n",
    "for numero in range(inicio, fim):\n",
    "    if numero % 5 == 0:\n",
    "        print(numero)\n"
   ]
  },
  {
   "cell_type": "markdown",
   "metadata": {},
   "source": [
    "2. Altere o código da atividade 1 para que ele exiba os números múltiplos de 2, 5 e 7 (simultaneamente) e que estejam dentro do intervalo entre 100 e 500 (incluindo o 100 e o 500)."
   ]
  },
  {
   "cell_type": "code",
   "execution_count": 4,
   "metadata": {},
   "outputs": [
    {
     "name": "stdout",
     "output_type": "stream",
     "text": [
      "140\n",
      "210\n",
      "280\n",
      "350\n",
      "420\n",
      "490\n"
     ]
    }
   ],
   "source": [
    "\"\"\"\n",
    "Este script Python verifica quais números em um intervalo específico são divisíveis por 2, 5 e 7 simultaneamente e os exibe.\n",
    "\n",
    "Variáveis:\n",
    "inicio : int\n",
    "    O início do intervalo a ser verificado.\n",
    "fim : int\n",
    "    O fim do intervalo a ser verificado.\n",
    "\n",
    "O script usa um laço for para iterar sobre o intervalo de 'inicio' a 'fim'. Para cada número no intervalo, ele verifica se o número é divisível por 2, 5 e 7. Se for, o número é impresso.\n",
    "\"\"\"\n",
    "\n",
    "# declaração de variáveis\n",
    "inicio = 100\n",
    "fim = 500\n",
    "\n",
    "# verifica quais números são divisíveis por cinco, e exibe aqueles que são.\n",
    "for numero in range(inicio, fim + 1):\n",
    "    if numero % 2 == 0 and numero % 5 == 0 and numero % 7 == 0:\n",
    "        print(numero)"
   ]
  },
  {
   "cell_type": "markdown",
   "metadata": {},
   "source": [
    "3. Altere o código da atividade 1, criando uma variável divisor e, em seguida, verifique quais os números no intervalo entre 0 e 1000 (incluindo o 0 e excluindo o 1000) são múltiplos da variável divisor.\n",
    "\n",
    "Por exemplo, se o valor de divisor for igual a 3, todos os números múltiplos de 3, dentro do intervalo, deverão ser exibidos (0, 3, 6, 9, ..., 996, 999)."
   ]
  },
  {
   "cell_type": "code",
   "execution_count": 7,
   "metadata": {},
   "outputs": [
    {
     "name": "stdout",
     "output_type": "stream",
     "text": [
      "0\n",
      "100\n",
      "200\n",
      "300\n",
      "400\n",
      "500\n",
      "600\n",
      "700\n",
      "800\n",
      "900\n",
      "1000\n"
     ]
    }
   ],
   "source": [
    "\n",
    "\"\"\"\n",
    "Este script Python verifica quais números em um intervalo específico são divisíveis por um número divisor fornecido pelo usuário e os exibe.\n",
    "\n",
    "Variáveis:\n",
    "inicio : int\n",
    "    O início do intervalo a ser verificado.\n",
    "fim : int\n",
    "    O fim do intervalo a ser verificado.\n",
    "divisor : int\n",
    "    O número divisor fornecido pelo usuário.\n",
    "\n",
    "O script primeiro solicita ao usuário que insira um número divisor. Em seguida, usa um laço for para iterar sobre o intervalo de 'inicio' a 'fim'. Para cada número no intervalo, ele verifica se o número é divisível pelo divisor. Se for, o número é impresso.\n",
    "\"\"\"\n",
    "\n",
    "# declaração de variáveis\n",
    "inicio = 0\n",
    "fim = 1000\n",
    "divisor = int(input(\"Digite um número divisor: \"))\n",
    "\n",
    "# verifica quais números são divisíveis por cinco, e exibe aqueles que são.\n",
    "for numero in range(inicio, fim + 1):\n",
    "    if numero % divisor == 0:\n",
    "        print(numero)"
   ]
  },
  {
   "cell_type": "markdown",
   "metadata": {},
   "source": [
    "4. Crie um código declarando as seguintes variáveis do tipo string:\n",
    "\n",
    "Em seguida, realize as seguintes transformações nas variáveis:\n",
    "● Transforme todos os caracteres das variáveis em maiúsculo;\n",
    "● Transforme todos os caracteres das variáveis em minúsculo;\n",
    "● Exiba a posição do caractere ã, se presente, em cada uma das variáveis;\n",
    "● Exiba o número de caracteres de cada variável;\n",
    "● Remova os pontos (.) e o hífen (–) da variável cpf."
   ]
  },
  {
   "cell_type": "code",
   "execution_count": 12,
   "metadata": {},
   "outputs": [
    {
     "name": "stdout",
     "output_type": "stream",
     "text": [
      "JOÃO DA SILVA\n",
      "SÃO PAULO\n",
      "\n",
      "\n",
      "joão da silva\n",
      "são paulo\n",
      "\n",
      "\n",
      "Posição ã em nome:  2\n",
      "Posição ã em cidade:  1\n",
      "\n",
      "Quantidade de caracteres em nome:  13\n",
      "Quantidade de caracteres em cidade:  9\n",
      "Quantidade de caracteres em cpf:  14\n",
      "\n",
      "CPF sem pontos e traço:  12345678900\n"
     ]
    }
   ],
   "source": [
    "\"\"\"\n",
    "Este script Python realiza várias operações em strings.\n",
    "\n",
    "Variáveis:\n",
    "nome : str\n",
    "    Uma string contendo um nome.\n",
    "cidade : str\n",
    "    Uma string contendo uma cidade.\n",
    "cpf : str\n",
    "    Uma string contendo um CPF no formato '123.456.789-00'.\n",
    "\n",
    "O script realiza as seguintes operações nas variáveis:\n",
    "1. Transforma todos os caracteres das variáveis em maiúsculo e imprime o resultado.\n",
    "2. Transforma todos os caracteres das variáveis em minúsculo e imprime o resultado.\n",
    "3. Exibe a posição do caractere 'ã', se presente, em cada uma das variáveis.\n",
    "4. Exibe o número de caracteres de cada variável.\n",
    "5. Remove os pontos (.) e o hífen (-) da variável cpf e imprime o resultado.\n",
    "\"\"\"\n",
    "\n",
    "# variáveis do tipo string\n",
    "\n",
    "nome = 'João da Silva'\n",
    "cidade = 'São Paulo'\n",
    "cpf = '123.456.789-00'\n",
    "\n",
    "print(nome.upper())\n",
    "print(cidade.upper())\n",
    "print('\\n')\n",
    "\n",
    "print(nome.lower())\n",
    "print(cidade.lower())\n",
    "print('\\n')\n",
    "\n",
    "print('Posição ã em nome: ', nome.index('ã'))\n",
    "print('Posição ã em cidade: ', cidade.index('ã'))\n",
    "\n",
    "print('\\nQuantidade de caracteres em nome: ', len(nome))\n",
    "print('Quantidade de caracteres em cidade: ', len(cidade))\n",
    "print('Quantidade de caracteres em cpf: ', len(cpf))\n",
    "\n",
    "cpf = cpf.replace('.', '').replace('-', '')\n",
    "print('\\nCPF sem pontos e traço: ', cpf)\n",
    "\n"
   ]
  },
  {
   "cell_type": "markdown",
   "metadata": {},
   "source": [
    "# A string dada\n",
    "numero = '127957'\n",
    "\n",
    "# Inicializa a variável soma com 0\n",
    "soma = 0\n",
    "\n",
    "# Percorre cada caractere na string\n",
    "for caractere in numero:\n",
    "    # Converte o caractere em um número inteiro e adiciona à soma\n",
    "    soma += int(caractere)\n",
    "\n",
    "# Imprime a soma\n",
    "print(soma)  # Saída: 31\n"
   ]
  },
  {
   "cell_type": "code",
   "execution_count": 15,
   "metadata": {},
   "outputs": [
    {
     "name": "stdout",
     "output_type": "stream",
     "text": [
      "<class 'float'>\n",
      "31\n"
     ]
    }
   ],
   "source": [
    "# A string dada\n",
    "numero = '127957'\n",
    "print(type(int(numero) + 1.0))\n",
    "\n",
    "# Inicializa a variável soma com 0\n",
    "soma = 0\n",
    "\n",
    "# Percorre cada caractere na string\n",
    "for caractere in numero:\n",
    "    # Converte o caractere em um número inteiro e adiciona à soma\n",
    "    soma += int(caractere)\n",
    "\n",
    "# Imprime a soma\n",
    "print(soma)  # Saída: 31\n"
   ]
  }
 ],
 "metadata": {
  "kernelspec": {
   "display_name": "Python 3",
   "language": "python",
   "name": "python3"
  },
  "language_info": {
   "codemirror_mode": {
    "name": "ipython",
    "version": 3
   },
   "file_extension": ".py",
   "mimetype": "text/x-python",
   "name": "python",
   "nbconvert_exporter": "python",
   "pygments_lexer": "ipython3",
   "version": "3.11.6"
  }
 },
 "nbformat": 4,
 "nbformat_minor": 2
}
