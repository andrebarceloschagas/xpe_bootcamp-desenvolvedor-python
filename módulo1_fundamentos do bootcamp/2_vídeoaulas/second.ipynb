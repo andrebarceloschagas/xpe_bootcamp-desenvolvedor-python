{
 "cells": [
  {
   "cell_type": "code",
   "execution_count": 2,
   "metadata": {},
   "outputs": [
    {
     "name": "stdout",
     "output_type": "stream",
     "text": [
      "Menores que o limiar:  [0, 1, 2, 3, 4]\n",
      "Maiores que o limiar:  [6, 7, 8, 9]\n"
     ]
    }
   ],
   "source": [
    "# Define o valor do limiar\n",
    "limiar = 5\n",
    "\n",
    "menores = [] # Cria uma lista vazia dos numeros menores que o limiar\n",
    "maiores = [] # Cria uma lista vazia dos numeros maiores que o limiar\n",
    "\n",
    "# Percorre a lista de numeros\n",
    "for i in range(10):\n",
    "    if (i < limiar):\n",
    "        menores.append(i) # Adiciona o numero na lista de menores\n",
    "    elif (i > limiar):\n",
    "        maiores.append(i) # Adiciona o numero na lista de maiores\n",
    "\n",
    "# Imprime as listas\n",
    "print(\"Menores que o limiar: \", menores)\n",
    "print(\"Maiores que o limiar: \", maiores)\n"
   ]
  },
  {
   "cell_type": "code",
   "execution_count": 3,
   "metadata": {},
   "outputs": [
    {
     "name": "stdout",
     "output_type": "stream",
     "text": [
      "Andre Barcelos Chagas 30 1.73\n"
     ]
    }
   ],
   "source": [
    "# A criação de uma variável é realizada por meio da declaração de um nome e da atribuição de um valor a ela.\n",
    "\n",
    "pessoa = \"Andre Barcelos Chagas\"\n",
    "idade = 30\n",
    "altura = 1.73\n",
    "print(pessoa, idade, altura)\n",
    "\n"
   ]
  },
  {
   "cell_type": "code",
   "execution_count": 4,
   "metadata": {},
   "outputs": [
    {
     "name": "stdout",
     "output_type": "stream",
     "text": [
      "34\n"
     ]
    }
   ],
   "source": [
    "idade = 2023 - 1989\n",
    "print(idade)"
   ]
  },
  {
   "cell_type": "code",
   "execution_count": null,
   "metadata": {},
   "outputs": [],
   "source": []
  }
 ],
 "metadata": {
  "kernelspec": {
   "display_name": "Python 3",
   "language": "python",
   "name": "python3"
  },
  "language_info": {
   "codemirror_mode": {
    "name": "ipython",
    "version": 3
   },
   "file_extension": ".py",
   "mimetype": "text/x-python",
   "name": "python",
   "nbconvert_exporter": "python",
   "pygments_lexer": "ipython3",
   "version": "3.12.0"
  }
 },
 "nbformat": 4,
 "nbformat_minor": 2
}
