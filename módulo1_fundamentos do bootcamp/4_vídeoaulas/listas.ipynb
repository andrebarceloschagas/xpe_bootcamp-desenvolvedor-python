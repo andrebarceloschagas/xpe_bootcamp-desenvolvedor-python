{
  "cells": [
    {
      "cell_type": "code",
      "execution_count": 1,
      "metadata": {},
      "outputs": [
        {
          "name": "stdout",
          "output_type": "stream",
          "text": [
            "[1, 2, 3, 4, 5]\n"
          ]
        }
      ],
      "source": [
        "# Lista com valores homogêneos\n",
        "\n",
        "lista_1 = [1, 2, 3, 4, 5]\n",
        "print(lista_1)"
      ]
    },
    {
      "cell_type": "code",
      "execution_count": 2,
      "metadata": {},
      "outputs": [
        {
          "name": "stdout",
          "output_type": "stream",
          "text": [
            "[2, 'a', 3.14, True]\n"
          ]
        }
      ],
      "source": [
        "# Lista com valores heterogêneos\n",
        "\n",
        "lista_2 = [2, 'a', 3.14, True]\n",
        "print(lista_2)"
      ]
    },
    {
      "cell_type": "code",
      "execution_count": 3,
      "metadata": {},
      "outputs": [
        {
          "name": "stdout",
          "output_type": "stream",
          "text": [
            "['um', 'dois', None, 4]\n"
          ]
        }
      ],
      "source": [
        "# Lista com valores nulos\n",
        "\n",
        "lista_3 = ['um', 'dois', None, 4]\n",
        "print(lista_3)"
      ]
    },
    {
      "cell_type": "code",
      "execution_count": 4,
      "metadata": {},
      "outputs": [
        {
          "name": "stdout",
          "output_type": "stream",
          "text": [
            "[1, 2, [3, 4, 5], [1, 2, 3], 6, 7]\n"
          ]
        }
      ],
      "source": [
        "# Lista com outras listas dentro (lista aninhada)\n",
        "\n",
        "l = [1, 2, 3]\n",
        "lista_4 = [1, 2, [3, 4, 5], l, 6, 7]\n",
        "print(lista_4)"
      ]
    },
    {
      "cell_type": "code",
      "execution_count": 5,
      "metadata": {},
      "outputs": [
        {
          "name": "stdout",
          "output_type": "stream",
          "text": [
            "[]\n"
          ]
        }
      ],
      "source": [
        "# Lista vazia\n",
        "\n",
        "lista_5 = []\n",
        "print(lista_5)"
      ]
    },
    {
      "cell_type": "code",
      "execution_count": 10,
      "metadata": {},
      "outputs": [
        {
          "name": "stdout",
          "output_type": "stream",
          "text": [
            "2\n",
            "a\n",
            "5.44\n",
            "True\n",
            "None\n",
            "casa\n",
            "[2, 'a']\n",
            "[None, 'casa']\n",
            "[2, 'a', 5.44, True, None, 'casa']\n"
          ]
        }
      ],
      "source": [
        "# Acessando valores de uma lista\n",
        "\n",
        "lista_6 = [2, 'a', 5.44, True, None, 'casa']\n",
        "\n",
        "# Acesso por índice\n",
        "print(lista_6[0])  # 2\n",
        "print(lista_6[1])  # 'a'\n",
        "print(lista_6[2])  # 5.44\n",
        "print(lista_6[3])  # True\n",
        "print(lista_6[4])  # None\n",
        "print(lista_6[5])  # 'casa'\n",
        "\n",
        "# Acesso por índice slice\n",
        "print(lista_6[0:2])  # [2, 'a']\n",
        "print(lista_6[-2:])  # [5.44, True]\n",
        "print(lista_6[:])  # [None, 'casa']"
      ]
    },
    {
      "cell_type": "code",
      "execution_count": 12,
      "metadata": {},
      "outputs": [
        {
          "name": "stdout",
          "output_type": "stream",
          "text": [
            "40\n"
          ]
        }
      ],
      "source": [
        "# Cria uma lista para armazenar as 10 idades\n",
        "\n",
        "idades = [27, 35, 40, 22, 19, 33, 28, 25, 30, 31]\n",
        "\n",
        "maior_idade = 0\n",
        "\n",
        "for idade in idades:\n",
        "    if idade > maior_idade:\n",
        "        maior_idade = idade\n",
        "\n",
        "print(maior_idade)"
      ]
    }
  ],
  "metadata": {
    "kernelspec": {
      "display_name": "Python 3",
      "language": "python",
      "name": "python3"
    },
    "language_info": {
      "codemirror_mode": {
        "name": "ipython",
        "version": 3
      },
      "file_extension": ".py",
      "mimetype": "text/x-python",
      "name": "python",
      "nbconvert_exporter": "python",
      "pygments_lexer": "ipython3",
      "version": "3.12.1"
    }
  },
  "nbformat": 4,
  "nbformat_minor": 2
}
