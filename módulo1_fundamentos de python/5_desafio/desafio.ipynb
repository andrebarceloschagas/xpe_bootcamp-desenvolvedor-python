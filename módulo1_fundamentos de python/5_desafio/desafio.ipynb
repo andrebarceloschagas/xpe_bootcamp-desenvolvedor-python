{
 "cells": [
  {
   "cell_type": "markdown",
   "metadata": {},
   "source": [
    "Atividade 01. Execute e analise a saída do seguinte código."
   ]
  },
  {
   "cell_type": "code",
   "execution_count": null,
   "metadata": {},
   "outputs": [],
   "source": [
    "#relação dos nomes\n",
    "nomes = ['Maria', 'Julieta', 'Fernando', 'Cristiano', 'Julieta', 'Maria', 'Fernando', 'Cláudio']\n",
    "\n",
    "# estrutura que irá armazenar o número de letras de cada nome\n",
    "qtd_letras = {}\n",
    "\n",
    "# calcula o tamanho de cada nome (em número de letras) e armazena o valor na estrutura\n",
    "for nome in nomes:\n",
    "    qtd_letras[nome] = len(nome)"
   ]
  }
 ],
 "metadata": {
  "kernelspec": {
   "display_name": "Python 3",
   "language": "python",
   "name": "python3"
  },
  "language_info": {
   "name": "python",
   "version": "3.10.12"
  }
 },
 "nbformat": 4,
 "nbformat_minor": 2
}
